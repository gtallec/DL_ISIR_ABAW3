{
 "cells": [
  {
   "cell_type": "code",
   "execution_count": 2,
   "id": "brave-prevention",
   "metadata": {},
   "outputs": [],
   "source": [
    "import os\n",
    "import pandas as pd"
   ]
  },
  {
   "cell_type": "code",
   "execution_count": 5,
   "id": "fourth-provision",
   "metadata": {},
   "outputs": [],
   "source": [
    "JAAD_PATH = os.path.join('..', '..', '..', 'resources', 'JAAD')"
   ]
  },
  {
   "cell_type": "code",
   "execution_count": 7,
   "id": "interpreted-blind",
   "metadata": {},
   "outputs": [
    {
     "name": "stdout",
     "output_type": "stream",
     "text": [
      "       vid_id  frame_id  ped_id     x1     y1     x2     y2  occlusion  \\\n",
      "0  video_0001         0  0_1_3b  465.0  730.0  533.0  848.0          0   \n",
      "1  video_0001         1  0_1_3b  463.0  730.0  532.0  848.0          0   \n",
      "2  video_0001         2  0_1_3b  461.0  730.0  531.0  849.0          0   \n",
      "3  video_0001         3  0_1_3b  459.0  730.0  530.0  849.0          0   \n",
      "4  video_0001         4  0_1_3b  458.0  731.0  530.0  851.0          0   \n",
      "\n",
      "   crossing_point  designated  ...  bicycle_motorcycle  pose_right  bag_elbow  \\\n",
      "0            -1.0         0.0  ...                 0.0         1.0        0.0   \n",
      "1            -1.0         0.0  ...                 0.0         1.0        0.0   \n",
      "2            -1.0         0.0  ...                 0.0         1.0        0.0   \n",
      "3            -1.0         0.0  ...                 0.0         1.0        0.0   \n",
      "4            -1.0         0.0  ...                 0.0         1.0        0.0   \n",
      "\n",
      "   pose_left  clothes_lower_dark  bag_right_side stroller_cart  \\\n",
      "0        0.0                 0.0             0.0           0.0   \n",
      "1        0.0                 0.0             0.0           0.0   \n",
      "2        0.0                 0.0             0.0           0.0   \n",
      "3        0.0                 0.0             0.0           0.0   \n",
      "4        0.0                 0.0             0.0           0.0   \n",
      "\n",
      "   clothes_upper_dark  baby  hood  \n",
      "0                 0.0   0.0   0.0  \n",
      "1                 0.0   0.0   0.0  \n",
      "2                 0.0   0.0   0.0  \n",
      "3                 0.0   0.0   0.0  \n",
      "4                 0.0   0.0   0.0  \n",
      "\n",
      "[5 rows x 52 columns]\n"
     ]
    }
   ],
   "source": [
    "jaad_df = pd.read_csv(os.path.join(JAAD_PATH, 'interface.csv'))\n"
   ]
  },
  {
   "cell_type": "code",
   "execution_count": 25,
   "id": "confused-arnold",
   "metadata": {},
   "outputs": [
    {
     "name": "stdout",
     "output_type": "stream",
     "text": [
      "23762\n",
      "113284\n"
     ]
    }
   ],
   "source": [
    "looking_pedestrian = (jaad_df['look'] == 1)\n",
    "acting_pedestrian = (jaad_df['action'] == 1)\n",
    "print(jaad_df[looking_pedestrian].shape[0])\n",
    "print(jaad_df[acting_pedestrian].shape[0])\n",
    "print(j)"
   ]
  }
 ],
 "metadata": {
  "kernelspec": {
   "display_name": "Python 3",
   "language": "python",
   "name": "python3"
  },
  "language_info": {
   "codemirror_mode": {
    "name": "ipython",
    "version": 3
   },
   "file_extension": ".py",
   "mimetype": "text/x-python",
   "name": "python",
   "nbconvert_exporter": "python",
   "pygments_lexer": "ipython3",
   "version": "3.8.5"
  }
 },
 "nbformat": 4,
 "nbformat_minor": 5
}
