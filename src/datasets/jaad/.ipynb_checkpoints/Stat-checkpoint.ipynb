{
 "cells": [
  {
   "cell_type": "code",
   "execution_count": 2,
   "id": "brave-prevention",
   "metadata": {},
   "outputs": [],
   "source": [
    "import os\n",
    "import pandas as pd"
   ]
  },
  {
   "cell_type": "code",
   "execution_count": 5,
   "id": "fourth-provision",
   "metadata": {},
   "outputs": [],
   "source": [
    "JAAD_PATH = os.path.join('..', '..', '..', 'resources', 'JAAD')"
   ]
  },
  {
   "cell_type": "code",
   "execution_count": 6,
   "id": "responsible-armenia",
   "metadata": {},
   "outputs": [],
   "source": [
    "jaad_df = pd.read_csv(os.path.join(JAAD_PATH, 'interface.csv'))\n"
   ]
  }
 ],
 "metadata": {
  "kernelspec": {
   "display_name": "Python 3",
   "language": "python",
   "name": "python3"
  },
  "language_info": {
   "codemirror_mode": {
    "name": "ipython",
    "version": 3
   },
   "file_extension": ".py",
   "mimetype": "text/x-python",
   "name": "python",
   "nbconvert_exporter": "python",
   "pygments_lexer": "ipython3",
   "version": "3.8.5"
  }
 },
 "nbformat": 4,
 "nbformat_minor": 5
}
