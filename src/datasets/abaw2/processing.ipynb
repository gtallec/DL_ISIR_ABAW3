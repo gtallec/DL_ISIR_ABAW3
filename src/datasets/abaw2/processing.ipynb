{
 "cells": [
  {
   "cell_type": "code",
   "execution_count": 2,
   "metadata": {},
   "outputs": [],
   "source": [
    "import os\n",
    "import pandas as pd"
   ]
  },
  {
   "cell_type": "code",
   "execution_count": 37,
   "metadata": {},
   "outputs": [
    {
     "name": "stdout",
     "output_type": "stream",
     "text": [
      "00005\n"
     ]
    }
   ],
   "source": [
    "ABAW2_notebook = os.path.join('..', '..', '..', 'resources', 'ABAW2')\n",
    "ABAW2_main = os.path.join('..', 'resources', 'ABAW2')\n",
    "\n",
    "AU_annotations = os.path.join(ABAW2_notebook, 'annotations', 'AU_Set')\n",
    "aligned_images = os.path.join(ABAW2_notebook, 'cropped_aligned')\n",
    "\n",
    "a = '{:05d}'.format(5)\n",
    "print(a)\n",
    "\n",
    "def make_path(video, frame):\n",
    "    return os.path.join(ABAW2_main,\n",
    "                        'cropped_aligned',\n",
    "                        video,\n",
    "                        '{:05d}.jpg'.format(frame))\n",
    "\n",
    "def map_make_path(x):\n",
    "    return make_path(x['vid_id'], x['frame'])"
   ]
  },
  {
   "cell_type": "code",
   "execution_count": 38,
   "metadata": {},
   "outputs": [],
   "source": [
    "## Train csv: \n",
    "train_path = os.path.join(AU_annotations, 'Train_Set')\n",
    "video_annotations = os.listdir(train_path)\n",
    "\n",
    "annotation_dfs = []\n",
    "for video_annotation in video_annotations:\n",
    "    full_path = os.path.join(train_path, video_annotation)\n",
    "    df_video = pd.read_csv(full_path)\n",
    "    df_video['frame'] = df_video.index.map(lambda x: x + 1)\n",
    "    df_video['vid_id'] = video_annotation.split('.')[0]\n",
    "    not_annotated = ((df_video['AU1'] == -1)|\n",
    "                     (df_video['AU2'] == -1)|\n",
    "                     (df_video['AU4'] == -1)|\n",
    "                     (df_video['AU6'] == -1)|\n",
    "                     (df_video['AU7'] == -1)|\n",
    "                     (df_video['AU10'] == -1)|\n",
    "                     (df_video['AU12'] == -1)|\n",
    "                     (df_video['AU15'] == -1)|\n",
    "                     (df_video['AU23'] == -1)|\n",
    "                     (df_video['AU24'] == -1)|\n",
    "                     (df_video['AU25'] == -1)|\n",
    "                     (df_video['AU26'] == -1))\n",
    "    df_video = df_video[~not_annotated]\n",
    "    annotation_dfs.append(df_video)\n",
    "    \n",
    "train_annotation_df = pd.concat(annotation_dfs)\n",
    "train_annotation_df['path'] = train_annotation_df.apply(map_make_path,\n",
    "                                                        axis=1)\n"
   ]
  },
  {
   "cell_type": "code",
   "execution_count": 39,
   "metadata": {},
   "outputs": [],
   "source": [
    "## Valid csv: \n",
    "valid_path = os.path.join(AU_annotations, 'Validation_Set')\n",
    "video_annotations = os.listdir(valid_path)\n",
    "\n",
    "annotation_dfs = []\n",
    "for video_annotation in video_annotations:\n",
    "    full_path = os.path.join(valid_path, video_annotation)\n",
    "    df_video = pd.read_csv(full_path)\n",
    "    df_video['frame'] = df_video.index.map(lambda x: x + 1)\n",
    "    df_video['vid_id'] = video_annotation.split('.')[0]\n",
    "    not_annotated = ((df_video['AU1'] == -1)|\n",
    "                     (df_video['AU2'] == -1)|\n",
    "                     (df_video['AU4'] == -1)|\n",
    "                     (df_video['AU6'] == -1)|\n",
    "                     (df_video['AU7'] == -1)|\n",
    "                     (df_video['AU10'] == -1)|\n",
    "                     (df_video['AU12'] == -1)|\n",
    "                     (df_video['AU15'] == -1)|\n",
    "                     (df_video['AU23'] == -1)|\n",
    "                     (df_video['AU24'] == -1)|\n",
    "                     (df_video['AU25'] == -1)|\n",
    "                     (df_video['AU26'] == -1))\n",
    "    df_video = df_video[~not_annotated]\n",
    "    annotation_dfs.append(df_video)\n",
    "    \n",
    "valid_annotation_df = pd.concat(annotation_dfs)\n",
    "valid_annotation_df['path'] = valid_annotation_df.apply(map_make_path,\n",
    "                                                        axis=1)"
   ]
  },
  {
   "cell_type": "code",
   "execution_count": 40,
   "metadata": {},
   "outputs": [
    {
     "name": "stdout",
     "output_type": "stream",
     "text": [
      "      AU1  AU2  AU4  AU6  AU7  AU10  AU12  AU15  AU23  AU24  AU25  AU26  \\\n",
      "0       0    0    0    0    0     0     0     0     0     0     0     0   \n",
      "1       0    0    0    0    0     0     0     0     0     0     0     0   \n",
      "2       0    0    0    0    0     0     0     0     0     0     0     0   \n",
      "3       0    0    0    0    0     0     0     0     0     0     0     0   \n",
      "4       0    0    0    0    0     0     0     0     0     0     0     0   \n",
      "...   ...  ...  ...  ...  ...   ...   ...   ...   ...   ...   ...   ...   \n",
      "7979    0    0    0    0    0     0     0     0     0     0     1     0   \n",
      "7980    0    0    0    0    0     0     0     0     0     0     1     0   \n",
      "7981    0    0    0    0    0     0     0     0     0     0     1     0   \n",
      "7982    0    0    0    0    0     0     0     0     0     0     1     0   \n",
      "7991    0    0    0    0    0     0     0     0     0     0     1     0   \n",
      "\n",
      "      frame           vid_id  \\\n",
      "0         1              259   \n",
      "1         2              259   \n",
      "2         3              259   \n",
      "3         4              259   \n",
      "4         5              259   \n",
      "...     ...              ...   \n",
      "7979   7980  71-30-1920x1080   \n",
      "7980   7981  71-30-1920x1080   \n",
      "7981   7982  71-30-1920x1080   \n",
      "7982   7983  71-30-1920x1080   \n",
      "7991   7992  71-30-1920x1080   \n",
      "\n",
      "                                                   path  \n",
      "0      ../resources/ABAW2/cropped_aligned/259/00001.jpg  \n",
      "1      ../resources/ABAW2/cropped_aligned/259/00002.jpg  \n",
      "2      ../resources/ABAW2/cropped_aligned/259/00003.jpg  \n",
      "3      ../resources/ABAW2/cropped_aligned/259/00004.jpg  \n",
      "4      ../resources/ABAW2/cropped_aligned/259/00005.jpg  \n",
      "...                                                 ...  \n",
      "7979  ../resources/ABAW2/cropped_aligned/71-30-1920x...  \n",
      "7980  ../resources/ABAW2/cropped_aligned/71-30-1920x...  \n",
      "7981  ../resources/ABAW2/cropped_aligned/71-30-1920x...  \n",
      "7982  ../resources/ABAW2/cropped_aligned/71-30-1920x...  \n",
      "7991  ../resources/ABAW2/cropped_aligned/71-30-1920x...  \n",
      "\n",
      "[1397512 rows x 15 columns]\n"
     ]
    }
   ],
   "source": [
    "print(train_annotation_df)"
   ]
  },
  {
   "cell_type": "code",
   "execution_count": 41,
   "metadata": {},
   "outputs": [],
   "source": [
    "train_annotation_df.to_csv('train.csv')\n",
    "valid_annotation_df.to_csv('valid.csv')"
   ]
  },
  {
   "cell_type": "code",
   "execution_count": 22,
   "metadata": {},
   "outputs": [
    {
     "name": "stdout",
     "output_type": "stream",
     "text": [
      "AU1     0.119022\n",
      "AU2     0.050626\n",
      "AU4     0.160326\n",
      "AU6     0.264958\n",
      "AU7     0.399429\n",
      "AU10    0.345302\n",
      "AU12    0.242938\n",
      "AU15    0.027735\n",
      "AU23    0.031243\n",
      "AU24    0.028415\n",
      "AU25    0.628240\n",
      "AU26    0.076150\n",
      "dtype: float64\n"
     ]
    }
   ],
   "source": [
    "AUs = ['AU{}'.format(i) for i in [1, 2, 4, 6, 7, 10, 12, 15, 23, 24, 25, 26]]\n",
    "train_annotation_AU = train_annotation_df[AUs]\n",
    "AUs_sum = train_annotation_AU.sum()\n",
    "AUs_count = train_annotation_AU.count()\n",
    "AUs_proportion = AUs_sum/AUs_count\n",
    "\n",
    "print(AUs_proportion)"
   ]
  }
 ],
 "metadata": {
  "kernelspec": {
   "display_name": "Python 3",
   "language": "python",
   "name": "python3"
  },
  "language_info": {
   "codemirror_mode": {
    "name": "ipython",
    "version": 3
   },
   "file_extension": ".py",
   "mimetype": "text/x-python",
   "name": "python",
   "nbconvert_exporter": "python",
   "pygments_lexer": "ipython3",
   "version": "3.7.7"
  }
 },
 "nbformat": 4,
 "nbformat_minor": 4
}
